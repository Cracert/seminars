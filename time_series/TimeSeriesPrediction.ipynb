{
 "cells": [
  {
   "cell_type": "markdown",
   "metadata": {},
   "source": [
    "# Machine learning strategies for time series forecasting\n",
    "__Damian Leśniak, Igor Podolak__"
   ]
  },
  {
   "cell_type": "markdown",
   "metadata": {
    "collapsed": true
   },
   "source": [
    "<div id=\"toc\"></div>"
   ]
  },
  {
   "cell_type": "code",
   "execution_count": 4,
   "metadata": {
    "collapsed": false
   },
   "outputs": [
    {
     "data": {
      "application/javascript": [
       "$.getScript('https://kmahelona.github.io/ipython_notebook_goodies/ipython_notebook_toc.js')"
      ],
      "text/plain": [
       "<IPython.core.display.Javascript object>"
      ]
     },
     "metadata": {},
     "output_type": "display_data"
    }
   ],
   "source": [
    "%%javascript\n",
    "$.getScript('https://kmahelona.github.io/ipython_notebook_goodies/ipython_notebook_toc.js')"
   ]
  },
  {
   "cell_type": "code",
   "execution_count": 129,
   "metadata": {
    "collapsed": false
   },
   "outputs": [
    {
     "name": "stdout",
     "output_type": "stream",
     "text": [
      "Populating the interactive namespace from numpy and matplotlib\n"
     ]
    }
   ],
   "source": [
    "%pylab inline\n",
    "import os\n",
    "\n",
    "from matplotlib import pyplot as plt\n",
    "import numpy as np\n",
    "import pandas as pd\n",
    "from sklearn.neighbors import KNeighborsClassifier"
   ]
  },
  {
   "cell_type": "code",
   "execution_count": 135,
   "metadata": {
    "collapsed": true
   },
   "outputs": [],
   "source": [
    "from sklearn.metrics import accuracy_score, brier_score_loss, classification_report\n",
    "from sklearn.metrics import confusion_matrix, log_loss"
   ]
  },
  {
   "cell_type": "markdown",
   "metadata": {},
   "source": [
    "> Time series: a sequence S of historical measurements $y_t$ of an observable variable $y$\n",
    "\n",
    "Let there be a _dynamical system_ whose state evolves in a state space $\\Gamma\\subset\\mathbb{R}^G$ according to $$s(t)=\\mathcal{F}^t(s(0))$$\n",
    "\n",
    "* In the absence of _noise_ the time series is related to dynamical system by relation $$y_t=\\mathcal{G}(s(t))$$ where $$\\mathcal{G}:\\Gamma\\rightarrow{}\\mathbb{R}^D$$ is a measurement function (let $D=1$)\n",
    "  * if $D=1$ then we have __univariate time series__\n",
    "\n",
    "* $f:\\mathbb{R}^n\\rightarrow\\mathbb{R}$ is induced in the space of vectors\n",
    "$$y_t=f(y_{t-l}, y_{t-l-1},\\dots, y_{t-l-d+1}),\\tag{*}$$\n",
    "where\n",
    "* $(y_{t-l}, y_{t-l-1},\\dots, y_{t-l-n+1})$ is the __embeding vector__,\n",
    "* $l$ is the __lag time__,\n",
    "* $d$ is the __order__, or __embedding dimension__, ie. number of past values used.\n",
    "\n",
    "  * the reconstructed states can be used to __estimate__ $f$, and the $f$ can be used as alternative to $\\mathcal{F}$ and $\\mathcal{G}$\n",
    "  * $(*)$ does not take into account __noise__, thus\n",
    "  $$y_t=f(y_{t-l}, y_{t-l-1},\\dots, y_{t-l-d+1})+w(t)$$\n",
    "  with missing information in $w(t)$"
   ]
  },
  {
   "cell_type": "markdown",
   "metadata": {},
   "source": [
    "## Auto Regressive Integrated Moving Average ARIMA model\n",
    "* a time series is __stationary__ if its statistical properties are constant over time\n",
    "  * is one whose properties __do not__ depend on the time at which series is observed\n",
    "  * it has no trend\n",
    "  * variations around its mean have a constant amplitude\n",
    "  * it wiggles in consistent fashion\n",
    "    * short term random time patterns look the same in some statistical sense\n",
    "    \n",
    "    \n",
    "    \n",
    "<img src=\"stationary.png\" width=\"100%\" />\n",
    "      * (a) Dow Jones on 292 conseccutive days\n",
    "        * __no__: trend rules\n",
    "      * (b) daily change in Dow Jones on 292 consecutive days\n",
    "        * __yes__: even though (a) was not stationary, it can be changed into stationary by differencing\n",
    "      * (c) annual number of strikes in US\n",
    "        * __no__: trend rules\n",
    "      * (d) monthly sales of new one family hauses in the US\n",
    "        * __no__: seasonal \n",
    "      * (e) price of a dozen eggs in US (inflation removed)\n",
    "        * __no__: trend rules\n",
    "      * (f)monthly total of pigs slaughtered in Victoria, Australia\n",
    "        * __no__: trend rules\n",
    "      * (g) annual total of lynx trapped in McKenzie river district in Canada\n",
    "        * __yes__: the cycles are aperiodic\n",
    "      * (h) monthly autralian beer production\n",
    "        * __no__: seasonal \n",
    "      * (i) monthly australian electricity production\n",
    "        * __no__: seasonal \n",
    "        * __no__: trend rules\n",
    "        * __no__: increasing variance\n",
    "* ARIMA is a class of models of forecasting time series, which can be made _stationary_\n",
    "$$\\hat{y}_{t+1}=\\mu+\\alpha_0y_t+\\dots+\\alpha_{d-1}y_{t-d+1}+\\phi_0\\epsilon_t+\\dots+\\phi_{d-1}\\epsilon_{t-d+1}$$\n",
    "* __ARIMA(p, d, q)__\n",
    "  * __p__ number of autoregressive terms\n",
    "  * __d__ number of nonseasonal differences needed for stationarity,\n",
    "  * __q__ number of lagged forecast errors\n",
    "* __ARIMA(1,0,0) first-order autoregressive__ model $$\\hat{y}_{t+1}=\\mu+\\alpha_0y_t$$\n",
    "  * last value plus some constant\n",
    "  * in __second-order ARIMA(2,0,0)__ $$\\hat{y}_{t+1}=\\mu+\\alpha_0y_t+\\alpha_1y_{t-1}$$\n",
    "* __ARIMA(0,1,0) random-walk__ $$\\hat{y}_{t+1}=\\mu+y_t$$\n",
    "  * the constant term is the average period-to-period change\n",
    "* __ARIMA(1,1,0) differenced first-order autoregressive__ model\n",
    "$$\\hat{y}_{t+1}=\\mu+y_t+\\alpha_0(y_t-y_{t-1})$$\n",
    "  * if errors of random walk are auto-correlated, then problem can be probably fixed by adding a term with second dependent variable\n",
    "  * it represents the first difference of $y$ __lagged__ by one period\n",
    "* __ARIMA(0, 1,1) simple exponential smoothing with growth__\n",
    "$$\\hat{y}_{t+1}=\\mu+y_t-\\phi_0\\epsilon_t=\\mu+y_t-\\phi_0(y_t-\\hat{y}_t)$$\n",
    "  * where $\\epsilon_t$ is the error of prediction at tle last previous step\n",
    "  \n",
    "\n",
    "* ARIMA models accurately predict __short-term__ temporal structures\n",
    "  * performance drops for long term\n",
    "  * ARIMA assumes stationarity"
   ]
  },
  {
   "cell_type": "markdown",
   "metadata": {
    "collapsed": true
   },
   "source": [
    "## Multi step-ahead forecasting strategies\n",
    "[after some works of Bontempi et al.]\n",
    "* __multi_step__, or __long term__ prediction predicts $H$ values $$[y_{N+1},\\dots,y_{N+H}],$$ where $H>1$ of a historical time series $[y_1,\\dots,y_N]$"
   ]
  },
  {
   "cell_type": "markdown",
   "metadata": {},
   "source": [
    "### Recursive strategy (Iterated, Multi-stage)\n",
    "* single model is trained to perform __one-step ahead__ forecast\n",
    "$$\\boxed{y_{t+1}=f(y_t, \\dots,y_{t-d+1}+w\\;\\;}$$\n",
    "* if we forecast $H>1$ steps, the value just forecasted is __used__ as part of input for next predictions\n",
    "$$\\boxed{\n",
    "\\hat{y}_{N+h}=\n",
    "\\begin{cases}\n",
    "\\hat{f}(y_N,\\dots,y_{N-d+1}),& \\text{if } h=1\\\\\n",
    "\\hat{f}(\\hat{y}_{N+h-1},\\dots,\\hat{y}_{N+1},y_N,\\dots,y_{N-d+h}),&\\text{if } h\\in\\{2,\\dots,d\\}\\\\\n",
    "\\hat{f}(\\hat{y}_{N+h-1},\\dots,\\hat{y}_{N+h-d})&\\text{if }h\\in\\{d+1,\\dots,H\\}\n",
    "\\end{cases}\\;\\;}$$\n",
    "  * recursive strategy depends on noise present\n",
    "  * if __forecasting horizon__ $h$ exceeds $d$ (__embedding dimension__), then some future points will be predicted __solely__ on forecasted values!\n",
    "  * accumulation of errors __with__ the forecasting horizon\n",
    "  * ML methods frequently used\n",
    "    * neural networks\n",
    "    * nearest-neighbours"
   ]
  },
  {
   "cell_type": "markdown",
   "metadata": {},
   "source": [
    "### Direct strategy (Independent)\n",
    "* forecast __each__ horizon independently from others\n",
    "* train $H$ models $f_h$ $$\\boxed{\\hat{y}_{N+h}=\\hat{f}_h(y_N,\\dots,y_{N-d+1})\\;\\;}$$\n",
    "  * no previously approximated values are used as input (as in recursive)\n",
    "* $H$ models are trained __independently__\n",
    "  * conditional independence of forecasts is induced\n",
    "  * strategy does not take into account dependencies between $\\hat{y}_{N+h}$\n",
    "    * e.g. let the best forecasted sequence be linear\n",
    "    * Direct might return a \"broken\" curve\n",
    "  * many models have to be learned\n",
    "* ML methods frequently used\n",
    "  * neural networks\n",
    "  * nearest neighbours\n",
    "  * decision trees\n"
   ]
  },
  {
   "cell_type": "markdown",
   "metadata": {},
   "source": [
    "###  DirRec\n",
    "* combines Direct and Recursive strategies\n",
    "  * compute forecasts with different models for every horizon (as Direct)\n",
    "  * at each step enlarges inputs with forecasts of previous step (like Recursive)\n",
    "  $$\\boxed{\n",
    "  \\hat{y}_{N+h}=\\hat{f}_h(y_{N+h-1},\\dots,y_{N-d+1})\\;\\;}$$ for $t\\in\\{d, N-H\\}$ and $h\\in\\{1, H\\}$\n",
    "  * we have to learn models\n",
    "  $$\\boxed{\n",
    "\\hat{y}_{N+h}=\n",
    "\\begin{cases}\n",
    "\\hat{f}(y_N,\\dots,y_{N-d+1}),& \\text{if } h=1\\\\\n",
    "\\hat{f}(\\hat{y}_{N+h-1},\\dots,\\hat{y}_{N+1},y_N,\\dots,y_{N-d+h}),&\\text{if } h\\in\\{2,\\dots,d\\}\n",
    "\\end{cases}\\;\\;}$$\n",
    "  * forecasts from previous steps are added\n",
    "  * embedding size __is not the same__ for all horizons\n",
    "  ---\n",
    "  * DirRec outperformed previous approaches on some datasets\n",
    "  * not so popular yet - young"
   ]
  },
  {
   "cell_type": "markdown",
   "metadata": {},
   "source": [
    "### MIMO Multi-Input Multi-Output (or Joint)\n",
    "* previous are combinations of single output approaches\n",
    "* idea: learn prediction which __does not avoid existence of stochastic dependencies between future values__\n",
    "$$\\boxed{\n",
    "[\\hat{y}_{N+H},\\dots,\\hat{y}_{N+1}]=\\hat{f}(y_N,\\dots,y_{N-d+1})\n",
    "\\;\\;}$$\n",
    "* should preserve dependencies between predicted values\n",
    "* avoids \n",
    "  * conditional independence assumption (like it is in Direct)\n",
    "  * accumulation of errors (as it is in Recursive)\n",
    "* all horizons predicted with the same model structure - may be a drawback\n",
    "* several succesfull applications "
   ]
  },
  {
   "cell_type": "markdown",
   "metadata": {},
   "source": [
    "### DIRMO \n",
    "* to preserve pros of DIRect and miMO\n",
    "  * forecast $H$ outputs in $n$ blocks each of size $s$ ($H = n * s$)\n",
    "  * $s\\in\\{1,\\dots,H\\}$\n",
    "    * the blocks do not overlap\n",
    "    * how about overlapping blocks?\n",
    "    * or blocks that are \"mixed\", eg. \n",
    "    $$\\begin{align}\n",
    "    b_1=[\\hat{y}_{N+1},\\hat{y}_{N+3},\\hat{y}_{N+6},\\hat{y}_{N+10}]\\\\\n",
    "    b_2=[\\hat{y}_{N+2},\\hat{y}_{N+4},\\hat{y}_{N+7},\\hat{y}_{N+11}]\\\\\n",
    "    b_3=[\\hat{y}_{N+3},\\hat{y}_{N+5},\\hat{y}_{N+8},\\hat{y}_{N+12}]\\\\\n",
    "    b_4=[\\hat{y}_{N+4},\\hat{y}_{N+6},\\hat{y}_{N+9},\\hat{y}_{N+13}]\n",
    "    \\end{align}$$\n",
    "* the output block size needs to be calibrated, eg. some sort of cross validation\n",
    "  * may give trade-off between\n",
    "    * stochastic dependency bewteen future values\n",
    "    * flexibility of predictor"
   ]
  },
  {
   "cell_type": "markdown",
   "metadata": {},
   "source": [
    "### Speed comparison\n",
    "* training of multi-output is longer than single output\n",
    "* multi prediction depends on number of models needed, thus\n",
    "  * Recursive is the fastest\n",
    "  * MIMO second fastest\n",
    "  * DIRMO third (only $H/s$ models)\n",
    "  * Direct next ($H$ single-output models)\n",
    "  * DirRec last ($H$ single output models because of change of embedding size)\n",
    "* DIRMO may be slowest because of the need to tune block size $s$"
   ]
  },
  {
   "cell_type": "markdown",
   "metadata": {},
   "source": [
    "### Comparisons\n",
    "* __Recursive__\n",
    "  * good for noise free environments, \n",
    "  * __but__ accumulates error\n",
    "* __Direct__\n",
    "  * does not accumulate errors,\n",
    "  * __But__ but assumes conditional independence of outputs\n",
    "* __DirRec__\n",
    "  * is a trade-off between Recursive and Direct, \n",
    "  * __but__ input grows with $H$\n",
    "* __MIMO__\n",
    "  * does not assume conditional independence of outputs, \n",
    "  * __but__ has reduced flexibility because of the same model for all horizons\n",
    "* __DIRMO__\n",
    "  * is a trade-off between independence and dependence of outputs,\n",
    "  * __but__ needs block size tuning"
   ]
  },
  {
   "cell_type": "markdown",
   "metadata": {},
   "source": [
    "## ML approximation methods used in time series forecasting"
   ]
  },
  {
   "cell_type": "markdown",
   "metadata": {},
   "source": [
    "### Nearest Neighbour KNN\n",
    "* find the pattern in history nearest to $[y_t,y_t-1,\\dots,y_{t-d+1}]$\n",
    "* select as  output the value $y_p$\n",
    "  * consider more neighbours"
   ]
  },
  {
   "cell_type": "markdown",
   "metadata": {},
   "source": [
    "### Lazy Learning LL\n",
    "* local method which adapts the size of neighbourhood on the basis of a cross-validation criterion\n",
    "* let $x_q=[y_t,\\dots,y_{t-d+1}]$ be the __query__\n",
    "  1. sort increasingly vectors $y_{[1]},y_{[2]},y_{[3]},\\dots$ in $X$ with respect to distance to $x_q$\n",
    "  2. determine optimal number $k$ of neighbours, e.g. using PRESS statistic:\n",
    "    1. estimate $$\\hat{y}^{(k)}_q=\\frac{1}{k}\\sum y_{[j]}$$\n",
    "    2. where $k$ is estimated from error $e_{LOO}$ (Leave-One-Out)\n",
    "    $$\\begin{align}\n",
    "    e_{LOO}(k)&=\\frac{1}{k}\\sum_j^k(e_j(k))^2\\\\\n",
    "    e_j(k))&=y_{[j]}-\\frac{\\sum_{i\\neq{}j}^k y_{[i]}}{k-1}=\n",
    "    \\frac{(k-1)y_{[j]}+y_{[j]}-y_{[j]}-\\sum_{i\\neq{}j}^k y_{[i]}}{k-1}\\\\\n",
    "    &=\\frac{ky_{[j]}-\\sum_i^ky_{[i]}}{k-1}=\\frac{ky_{[j]}-ky_q^{(k)}}{k-1}=k\\frac{y_{[j]}-y_q^{(k)}}{k-1}\\\\\n",
    "    k^{\\ast}&=\\underset{k\\in\\{1,\\dots,K\\}}{\\arg\\,\\min}e_{LOO}(k)\n",
    "    \\end{align}$$\n",
    "  3. calculate prediction $\\hat{y}_{t+1}$\n",
    "* to use lazy learning in multi-step forecasting\n",
    "  * extend algorithm to us composition of one-step ahead aproach\n",
    "  * use other measures of discrepancy between forecasted values and training time sereis from history\n",
    "  \n",
    "* two main approaches to model selection in LL\n",
    "  * __winner-takes_all__ select the best $k$\n",
    "  * __combine__ average models $$\\hat{y}_q=\\sum_{k=2}^Kp_ky_q^{(k)} \\Big{/} \\sum_{k=2}^Kp_k$$"
   ]
  },
  {
   "cell_type": "markdown",
   "metadata": {},
   "source": [
    "### Multi layer perceptron MLP\n",
    "* high number of parameters (number of hidden layers, number of neurons in layers)\n",
    "* relation between inputs in the embedding is not given __explicitely__"
   ]
  },
  {
   "cell_type": "markdown",
   "metadata": {},
   "source": [
    "### Bayesian Neural Network BNN\n",
    "* network parameters (weights) treated as random variables obeying some _a priori_ distribution\n",
    "* distribution favours models with low complexity by minimizing $$J=\\alpha{}E_D+(1-\\alpha)E_W$$\n",
    "* given observed data, new distributions can be computed\n",
    "* predictions reflect \n",
    "  * __smoothness__ imposed through the prior\n",
    "  * __fitness accuracy__ imposed by observed data"
   ]
  },
  {
   "cell_type": "markdown",
   "metadata": {},
   "source": [
    "### Radial Basis Function Neural Networks RBF\n",
    "* a single layer neural network with hidden layer using Gaussian type activation\n",
    "$$\\hat{y}(x)=\\sum_j w_j\\exp\\left(-\\frac{\\|x-c_j\\|^2}{\\sigma^2}\\right)$$"
   ]
  },
  {
   "cell_type": "markdown",
   "metadata": {},
   "source": [
    "### Generalized Regression Neural Network GRNN (Nadaraya-Watson)\n",
    "* prediction given by the __average__ of target outputs of training points in vicinity of $x$\n",
    "* __local average__ constructed by weighting points by their distance from $x$ using some kernel function\n",
    "$$\\boxed{\n",
    "\\begin{align}\n",
    "\\hat{y}(x)&=\\sum_jw_jy_j\\\\\n",
    "w_j(x)&=\\frac{K\\left(\\frac{\\|x-x_j\\|}{h}\\right)}{\\sum_{k}K\\left(\\frac{\\|x-x_k\\|}{h}\\right)}\n",
    "\\end{align}\n",
    "\\;\\;}$$"
   ]
  },
  {
   "cell_type": "markdown",
   "metadata": {},
   "source": [
    "### Classification And Regression Trees CART\n",
    "* tree-like partition of the input space\n",
    "* terminal leaves return a value\n",
    "  * step-like function returned\n",
    "* needs pruning\n",
    "* low generalization"
   ]
  },
  {
   "cell_type": "markdown",
   "metadata": {},
   "source": [
    "### Support Vector Regression SVR\n",
    "* minimize the error function\n",
    "$$J=\\frac{1}{2}\\|w\\|^2+C\\sum_j|y_j-f(x_j)|_\\epsilon$$\n",
    "* the model uses _support vectors_ only\n",
    "$$f(x)=\\sum_j(\\alpha_j^*-\\alpha_j)K(x_j^Tx)+b$$"
   ]
  },
  {
   "cell_type": "markdown",
   "metadata": {},
   "source": [
    "### Gaussian Processes GP\n",
    "* nonparametric method based on modelling observed responses of different training points as __multivariate random variable__\n",
    "* posterior distribution of function to be predicted is found using assumed prior distribution"
   ]
  },
  {
   "cell_type": "markdown",
   "metadata": {},
   "source": [
    "## Preprocessing\n",
    "* preprocessing may have __a big impact__ on performance, eg.\n",
    "  * deseasonalization of data\n",
    "  * detrending\n",
    "  * log-transformation\n",
    "  * series differencing\n",
    "    * well understood for linear models (eg. ARIMA)\n",
    "    * not always a good strategy for non-stationary series\n",
    "    * usually gives good results for the stationary case\n",
    "  * taking moving averages\n",
    "    * may smooth out noise"
   ]
  },
  {
   "cell_type": "markdown",
   "metadata": {},
   "source": [
    "##  Model selection\n",
    "* K-fold cross-validation is preferred\n",
    "  * probably double"
   ]
  },
  {
   "cell_type": "markdown",
   "metadata": {},
   "source": [
    "## Metrics\n",
    "* __symmetric mean absolute precentage error SMAPE__\n",
    "$$SMAPE=\\frac{1}{M}\\sum_m\\frac{|\\hat{y}_m-y_m|}{(|\\hat{y}_m|+|y_m|)/2}$$\n",
    "* ranking methods for comparing approaches\n",
    "  * compute the rank $R_q(p)$ of each method $q$ on each time series $p$\n",
    "  \n",
    "---\n",
    "* there are problems with comparisons\n",
    "* two groups used the same deterministic algorithm (1-NN) on the same data\n",
    "  * results differed by as much as 6%!\n",
    "  * the only difference was that one group rounded data to 6 decimal places while the other to 8 places!"
   ]
  },
  {
   "cell_type": "markdown",
   "metadata": {},
   "source": [
    "## Comparisons\n",
    "[after Ahmed 2010]\n",
    "\n",
    "\n",
    "\n",
    "|LAG|   |DIFF |    |MAVG|\n",
    "---  |---  |--- |---  |--- |---  |---\n",
    "     |SMAPE|Rank|SMAPE|Rank|SMAPE|Rank\n",
    "MLP  |0.086|__2.78__|0.179|5.02|0.083|__2.88__\n",
    "BNN  |0.103|_3.42_|0.175|4.58|0.086|__2.94__\n",
    "RBF  |0.125|5.33|0.213|5.24|0.158|6.28\n",
    "GRNN |0.104|5.24|0.156|__3.92__|0.103|4.99\n",
    "KNN  |0.104|5.10|0.169|4.57|0.103|4.95\n",
    "CART |0.121|6.77|0.152|__3.93__|0.117|6.31\n",
    "SVR  |0.099|4.19|0.171|4.59|0.104|4.41\n",
    "GP   |0.095|_3.17_|0.165|_4.15_|0.096|_3.26_\n",
    "\n",
    "* best models within 95% confidence are in __bold__\n",
    "* second best are given in _italics_\n",
    "\n"
   ]
  },
  {
   "cell_type": "markdown",
   "metadata": {},
   "source": [
    "## Ensembles of model\n",
    "[after Oliveira & Torgo]\n",
    "* _embedding dimension_ is critical to solutions\n",
    "* task: find an __optimal__ value for embedding dimension\n",
    "  * there may not exists a __single__ correct value\n",
    "  * non-stationary series and changes of regime shifts may lead to the size to be __time-dependent__\n",
    "* diversity is a key ingredient to  boost performance\n",
    "  * generate ensemble models of different characteristics (model tried by authors)\n",
    "    1. __simple bagging__ several models of same embedding size; diversity from bootstrap samples\n",
    "    2. __extra predictors__ additional predictors added; values convey information on dynamics, eg. mean and variance values for the given embedding\n",
    "      * last week Damian proposed adding information on the regime a machine is working in\n",
    "    3. __extended diversity__ by varying embedding dimensions; on top of bootstrap samples\n",
    "    4. __extended + extra__ varying embedding dimensions plus extra predictors\n",
    "    5. __extended in groups__ mixture of the last two: only half of models have extra predictor input values"
   ]
  },
  {
   "cell_type": "code",
   "execution_count": 72,
   "metadata": {
    "collapsed": true
   },
   "outputs": [],
   "source": [
    "def _ls(datasets_dir):\n",
    "    return os.listdir(datasets_dir)\n",
    "\n",
    "def load_dataset(dataset):\n",
    "#    train = pd.read_csv(os.path.join(DATASETS_DIR, dataset, dataset + \"_TRAIN\"), header=None)\n",
    "#    test = pd.read_csv(os.path.join(DATASETS_DIR, dataset, dataset + \"_TEST\"), header=None)\n",
    "    train = pd.read_csv(os.path.join(DATASETS_DIR, dataset + \"_TRAIN\"), header=None)\n",
    "    test = pd.read_csv(os.path.join(DATASETS_DIR, dataset + \"_TEST\"), header=None)\n",
    "\n",
    "    X_train = train.ix[:,1:].values\n",
    "    y_train = train[0].values\n",
    "    X_test = test.ix[:,1:].values\n",
    "    y_test = test[0].values\n",
    "    return X_train, y_train, X_test, y_test"
   ]
  },
  {
   "cell_type": "code",
   "execution_count": 73,
   "metadata": {
    "collapsed": false
   },
   "outputs": [],
   "source": [
    "#DATASETS_DIR = \"./UCR_TS_Archive_2015\"\n",
    "DATASETS_DIR = \".\"\n",
    "dataset = \"ElectricDevices\"\n",
    "X_train, y_train, X_test, y_test = load_dataset(dataset)"
   ]
  },
  {
   "cell_type": "code",
   "execution_count": 77,
   "metadata": {
    "collapsed": true
   },
   "outputs": [],
   "source": [
    "import timeit"
   ]
  },
  {
   "cell_type": "code",
   "execution_count": 75,
   "metadata": {
    "collapsed": false
   },
   "outputs": [
    {
     "name": "stdout",
     "output_type": "stream",
     "text": [
      "Train: X.shape = (8926, 96), y.shape = (8926,)\n",
      "Test : X.shape = (7711, 96), y.shape = (7711,)\n"
     ]
    }
   ],
   "source": [
    "print(\"Train: X.shape = {}, y.shape = {}\".format(X_train.shape, y_train.shape))\n",
    "print(\"Test : X.shape = {}, y.shape = {}\".format(X_test.shape, y_test.shape))"
   ]
  },
  {
   "cell_type": "markdown",
   "metadata": {
    "collapsed": true
   },
   "source": [
    "# Time series classification\n",
    "[after Bagnall, Bostrom, Large, Lines]\n",
    "\n",
    "Let $(x, y)$ be an observation where $x$ is an $m$ element __time series__ TS\n",
    "\n",
    "* let $a=[a_1,\\dots,a_m], b=[b_1,\\dots,b_m]$ be series that we want to measure distance between\n",
    "* $M(a,b)$ is a pointwise distance matrix\n",
    "  * $M_{ij}=(a_i-b_j)^2$\n",
    "## Euclidean distance\n",
    "  $$d_E(a,b)=\\sum_i(a_i-b_i)^2$$\n",
    "  * distance along the diagonal\n",
    "## Dynamic Time Warping DTW\n",
    "  * __warping path__ $$P=[(e_1,f_1),\\dots,(e_s,f_s)]$$ is a set of pairs of indexes that define the traversal of $M$\n",
    "    * $(e_1,f_1)=(1,1)$ and $(e_s,f_s)=(m, m)$: start at the first point of sequences, and end at the last\n",
    "    * $0\\leq{}e_{i+1}-e_i\\leq1$ and $0\\leq{}f_{i+1}-e_i\\leq1$: stay in the same point (of $a$ or $b$) or proceed to the next\n",
    "  * the distance for $P$ is $$d=\\sum_iM_{a_{e_i}b_{f_i}}$$\n",
    "  * DTW is the distance over path $p^\\ast$ minimizing distance\n",
    "  * requires dynamic programming for exact values; approximations possible"
   ]
  },
  {
   "cell_type": "code",
   "execution_count": 82,
   "metadata": {
    "collapsed": true
   },
   "outputs": [],
   "source": [
    "from dtw import dtw\n",
    "from fastdtw import fastdtw"
   ]
  },
  {
   "cell_type": "code",
   "execution_count": 7,
   "metadata": {
    "collapsed": false
   },
   "outputs": [
    {
     "name": "stdout",
     "output_type": "stream",
     "text": [
      "[[  1.   0.   1.   1.   4.   9.]\n",
      " [  0.   1.   0.   0.   1.   4.]\n",
      " [  4.   9.   4.   4.   1.   0.]\n",
      " [  1.   4.   1.   1.   0.   1.]\n",
      " [  4.   9.   4.   4.   1.   0.]\n",
      " [  9.  16.   9.   9.   4.   1.]]\n"
     ]
    }
   ],
   "source": [
    "import numpy as np\n",
    "a = np.array([0, 1, 3, 2, 3, 4]).reshape(-1, 1)\n",
    "b = np.array([1, 0, 1, 1, 2, 3]).reshape(-1, 1)\n",
    "m = np.zeros((len(a), len(b)))\n",
    "for i in range(len(a)):\n",
    "    for j in range(len(b)):\n",
    "        m[i, j] = (a[i] - b[j]) ** 2\n",
    "print(m)"
   ]
  },
  {
   "cell_type": "code",
   "execution_count": 107,
   "metadata": {
    "collapsed": false
   },
   "outputs": [
    {
     "data": {
      "text/plain": [
       "<matplotlib.legend.Legend at 0x11addffd0>"
      ]
     },
     "execution_count": 107,
     "metadata": {},
     "output_type": "execute_result"
    },
    {
     "data": {
      "image/png": "[encoded data removed]",
      "text/plain": [
       "<matplotlib.figure.Figure at 0x11a925490>"
      ]
     },
     "metadata": {},
     "output_type": "display_data"
    }
   ],
   "source": [
    "plot(a, label='a')\n",
    "plot(b, label='b')\n",
    "legend(loc='best')"
   ]
  },
  {
   "cell_type": "code",
   "execution_count": 12,
   "metadata": {
    "collapsed": true
   },
   "outputs": [],
   "source": [
    "def squared_norm(x, y):\n",
    "    return (x - y) ** 2"
   ]
  },
  {
   "cell_type": "code",
   "execution_count": 13,
   "metadata": {
    "collapsed": true
   },
   "outputs": [],
   "source": [
    "def l1_norm(x, y):\n",
    "    return np.abs(x - y)"
   ]
  },
  {
   "cell_type": "code",
   "execution_count": 121,
   "metadata": {
    "collapsed": false
   },
   "outputs": [
    {
     "name": "stdout",
     "output_type": "stream",
     "text": [
      "dist = 0.25\n",
      "cost = [[ 1.  0.  1.  1.  2.  3.]\n",
      " [ 0.  1.  0.  0.  1.  2.]\n",
      " [ 2.  3.  2.  2.  1.  0.]\n",
      " [ 1.  2.  1.  1.  0.  1.]\n",
      " [ 2.  3.  2.  2.  1.  0.]\n",
      " [ 3.  4.  3.  3.  2.  1.]]\n",
      "acc = [[  1.   1.   2.   3.   5.   8.]\n",
      " [  1.   2.   1.   1.   2.   4.]\n",
      " [  3.   4.   3.   3.   2.   2.]\n",
      " [  4.   5.   4.   4.   2.   3.]\n",
      " [  6.   7.   6.   6.   3.   2.]\n",
      " [  9.  10.   9.   9.   5.   3.]]\n",
      "path = (array([0, 0, 1, 1, 2, 3, 4, 5]), array([0, 1, 2, 3, 4, 4, 5, 5]))\n"
     ]
    }
   ],
   "source": [
    "dst, cst, acc, ptha = dtw(a, b, dist=lambda x, y: norm(x - y, ord=1))\n",
    "print('dist = {}\\ncost = {}\\nacc = {}\\npath = {}'.format(dst, cst, acc, pth))"
   ]
  },
  {
   "cell_type": "code",
   "execution_count": 127,
   "metadata": {
    "collapsed": false
   },
   "outputs": [
    {
     "data": {
      "text/plain": [
       "<matplotlib.legend.Legend at 0x11bccf550>"
      ]
     },
     "execution_count": 127,
     "metadata": {},
     "output_type": "execute_result"
    },
    {
     "data": {
      "image/png": "[encoded data removed]",
      "text/plain": [
       "<matplotlib.figure.Figure at 0x11b937f90>"
      ]
     },
     "metadata": {},
     "output_type": "display_data"
    }
   ],
   "source": [
    "ca = [a[x] for x in ptha[0]]\n",
    "cb = [b[x] for x in ptha[1]]\n",
    "plot(a, label='a')\n",
    "plot(b, label='b')\n",
    "plot(ca, '--', label='ca')\n",
    "plot(cb, '--', label='cb')\n",
    "legend(loc='best')"
   ]
  },
  {
   "cell_type": "code",
   "execution_count": 123,
   "metadata": {
    "collapsed": false
   },
   "outputs": [
    {
     "name": "stdout",
     "output_type": "stream",
     "text": [
      "dist = 0.25\n",
      "cost = [[  1.   0.   1.   1.   4.   9.]\n",
      " [  0.   1.   0.   0.   1.   4.]\n",
      " [  4.   9.   4.   4.   1.   0.]\n",
      " [  1.   4.   1.   1.   0.   1.]\n",
      " [  4.   9.   4.   4.   1.   0.]\n",
      " [  9.  16.   9.   9.   4.   1.]]\n",
      "acc = [[  1.   1.   2.   3.   7.  16.]\n",
      " [  1.   2.   1.   1.   2.   6.]\n",
      " [  5.  10.   5.   5.   2.   2.]\n",
      " [  6.   9.   6.   6.   2.   3.]\n",
      " [ 10.  15.  10.  10.   3.   2.]\n",
      " [ 19.  26.  19.  19.   7.   3.]]\n",
      "path = (array([0, 0, 1, 1, 2, 3, 4, 5]), array([0, 1, 2, 3, 4, 4, 5, 5]))\n"
     ]
    }
   ],
   "source": [
    "dst, cst, acc, pthb = dtw(a, b, dist=squared_norm)\n",
    "print('dist = {}\\ncost = {}\\nacc = {}\\npath = {}'.format(dst, cst, acc, pth))"
   ]
  },
  {
   "cell_type": "code",
   "execution_count": 128,
   "metadata": {
    "collapsed": false
   },
   "outputs": [
    {
     "data": {
      "text/plain": [
       "<matplotlib.legend.Legend at 0x11be6df50>"
      ]
     },
     "execution_count": 128,
     "metadata": {},
     "output_type": "execute_result"
    },
    {
     "data": {
      "image/png": "[encoded data removed]",
      "text/plain": [
       "<matplotlib.figure.Figure at 0x11bd31510>"
      ]
     },
     "metadata": {},
     "output_type": "display_data"
    }
   ],
   "source": [
    "ca = [a[x] for x in pthb[0]]\n",
    "cb = [b[x] for x in pthb[1]]\n",
    "plot(a, label='a')\n",
    "plot(b, label='b')\n",
    "plot(ca, '--', label='ca')\n",
    "plot(cb, '--', label='cb')\n",
    "legend(loc='best')"
   ]
  },
  {
   "cell_type": "code",
   "execution_count": 98,
   "metadata": {
    "collapsed": false
   },
   "outputs": [
    {
     "data": {
      "text/plain": [
       "<matplotlib.legend.Legend at 0x119608650>"
      ]
     },
     "execution_count": 98,
     "metadata": {},
     "output_type": "execute_result"
    },
    {
     "data": {
      "image/png": "[encoded data removed]",
      "text/plain": [
       "<matplotlib.figure.Figure at 0x1194096d0>"
      ]
     },
     "metadata": {},
     "output_type": "display_data"
    }
   ],
   "source": [
    "cst, pth = fastdtw(a, b)\n",
    "ca = [a[x[0]] for x in pth]\n",
    "cb = [b[x[1]] for x in pth]\n",
    "plot(a, label='a')\n",
    "plot(b, label='b')\n",
    "plot(ca, '--', label='ca')\n",
    "plot(cb, '--', label='cb')\n",
    "legend(loc='best')"
   ]
  },
  {
   "cell_type": "code",
   "execution_count": 22,
   "metadata": {
    "collapsed": false
   },
   "outputs": [
    {
     "name": "stdout",
     "output_type": "stream",
     "text": [
      "Original TS: a = [array([0]), array([1]), array([3]), array([2]), array([3]), array([4])]\n",
      "             b = [array([1]), array([0]), array([1]), array([1]), array([2]), array([3])]\n",
      "Warped TS:   a = [array([0]), array([0]), array([1]), array([1]), array([3]), array([2]), array([3]), array([4])]\n",
      "             b = [array([1]), array([0]), array([1]), array([1]), array([2]), array([2]), array([3]), array([3])]\n",
      "DTW is (0.25, array([[ 1.,  0.,  1.,  1.,  2.,  3.],\n",
      "       [ 0.,  1.,  0.,  0.,  1.,  2.],\n",
      "       [ 2.,  3.,  2.,  2.,  1.,  0.],\n",
      "       [ 1.,  2.,  1.,  1.,  0.,  1.],\n",
      "       [ 2.,  3.,  2.,  2.,  1.,  0.],\n",
      "       [ 3.,  4.,  3.,  3.,  2.,  1.]]), array([[  1.,   1.,   2.,   3.,   5.,   8.],\n",
      "       [  1.,   2.,   1.,   1.,   2.,   4.],\n",
      "       [  3.,   4.,   3.,   3.,   2.,   2.],\n",
      "       [  4.,   5.,   4.,   4.,   2.,   3.],\n",
      "       [  6.,   7.,   6.,   6.,   3.,   2.],\n",
      "       [  9.,  10.,   9.,   9.,   5.,   3.]]), (array([0, 0, 1, 1, 2, 3, 4, 5]), array([0, 1, 2, 3, 4, 4, 5, 5])))\n"
     ]
    }
   ],
   "source": [
    "p = [[0, 0], [0, 1], [1, 2], [1, 3], [2, 4], [3, 4], [4, 5], [5, 5]]\n",
    "aw = [a[x[0]] for x in p]\n",
    "bw = [b[x[1]] for x in p]\n",
    "print('Original TS: a = {}\\n             b = {}'.format(list(a), list(b)))\n",
    "print('Warped TS:   a = {}\\n             b = {}'.format(aw, bw))\n",
    "# dtw = np.sum([m[x[0], x[1]] for x in p])\n",
    "print('DTW is {}'.format(dtw(a, b, dist=lambda x, y: norm(x - y, ord=1))))"
   ]
  },
  {
   "cell_type": "code",
   "execution_count": 85,
   "metadata": {
    "collapsed": true
   },
   "outputs": [],
   "source": [
    "def fdtw(a, b):\n",
    "    return fastdtw(a, b)[0]"
   ]
  },
  {
   "cell_type": "code",
   "execution_count": 79,
   "metadata": {
    "collapsed": true
   },
   "outputs": [],
   "source": [
    "def sdtw(a, b):\n",
    "    d, _, _, _ = dtw(a, b, dist=squared_norm)\n",
    "    return d"
   ]
  },
  {
   "cell_type": "code",
   "execution_count": 80,
   "metadata": {
    "collapsed": true
   },
   "outputs": [],
   "source": [
    "def ldtw(a, b):\n",
    "    d, _, _, _ = dtw(a, b, dist=l1_norm)\n",
    "    return d"
   ]
  },
  {
   "cell_type": "code",
   "execution_count": 133,
   "metadata": {
    "collapsed": false
   },
   "outputs": [
    {
     "data": {
      "text/plain": [
       "KNeighborsClassifier(algorithm='auto', leaf_size=30,\n",
       "           metric=<function fdtw at 0x116f391b8>, metric_params=None,\n",
       "           n_jobs=-1, n_neighbors=1, p=2, weights='uniform')"
      ]
     },
     "execution_count": 133,
     "metadata": {},
     "output_type": "execute_result"
    }
   ],
   "source": [
    "one_nn = KNeighborsClassifier(n_neighbors=1, metric=fdtw, n_jobs=-1)\n",
    "one_nn.fit(X_train, y_train)"
   ]
  },
  {
   "cell_type": "code",
   "execution_count": 134,
   "metadata": {
    "collapsed": false
   },
   "outputs": [],
   "source": [
    "predicted = one_nn.predict(X_test)"
   ]
  },
  {
   "cell_type": "code",
   "execution_count": 147,
   "metadata": {
    "collapsed": false
   },
   "outputs": [],
   "source": [
    "onn_accu = accuracy_score(y_test, predicted)\n",
    "onn_conf = confusion_matrix(y_test, predicted)\n",
    "# onn_log = log_loss(y_test, predicted)  # needs predict_proba\n",
    "onn_report = classification_report(y_test, predicted)"
   ]
  },
  {
   "cell_type": "code",
   "execution_count": 148,
   "metadata": {
    "collapsed": false
   },
   "outputs": [
    {
     "name": "stdout",
     "output_type": "stream",
     "text": [
      "1-NN with DTW accuracy: 0.627934120088\n"
     ]
    }
   ],
   "source": [
    "print('1-NN with DTW accuracy: {}'.format(onn_accu))"
   ]
  },
  {
   "cell_type": "code",
   "execution_count": 151,
   "metadata": {
    "collapsed": false
   },
   "outputs": [
    {
     "name": "stdout",
     "output_type": "stream",
     "text": [
      "1-NN with DTW confusion matrix:\n",
      " [[ 182    0   28  147  193   96   21]\n",
      " [   0 1387    1   25  541    0    2]\n",
      " [  11    0  476   27   27    7  207]\n",
      " [  60    0  172  604  214   63   52]\n",
      " [  10   76   23  108 1608    9   35]\n",
      " [  40    0   13  138   55  493    4]\n",
      " [   3    9   11   21  420    0   92]]\n"
     ]
    }
   ],
   "source": [
    "print('1-NN with DTW confusion matrix:\\n {}'.format(onn_conf))"
   ]
  },
  {
   "cell_type": "code",
   "execution_count": 150,
   "metadata": {
    "collapsed": false
   },
   "outputs": [
    {
     "name": "stdout",
     "output_type": "stream",
     "text": [
      "1-NN with DTW report:              precision    recall  f1-score   support\n",
      "\n",
      "          1       0.59      0.27      0.37       667\n",
      "          2       0.94      0.71      0.81      1956\n",
      "          3       0.66      0.63      0.64       755\n",
      "          4       0.56      0.52      0.54      1165\n",
      "          5       0.53      0.86      0.65      1869\n",
      "          6       0.74      0.66      0.70       743\n",
      "          7       0.22      0.17      0.19       556\n",
      "\n",
      "avg / total       0.65      0.63      0.62      7711\n",
      "\n"
     ]
    }
   ],
   "source": [
    "print('1-NN with DTW report: {}'.format(onn_report))"
   ]
  },
  {
   "cell_type": "markdown",
   "metadata": {},
   "source": [
    "## Weighted DTW\n",
    "* DTW with penalty applied to warping distances $$M_{ij}=w(|i-j|)(a_i-b_j)^2$$\n",
    "* usually warping penalty is some logistic function of warping distance and sequence length $$w(d)=\\frac{w_{max}}{1+\\exp(-g(d-m/2))}$$"
   ]
  },
  {
   "cell_type": "markdown",
   "metadata": {
    "collapsed": true
   },
   "source": [
    "## Time Warped Edit TWE\n",
    "* modifies DTW\n",
    "* adds some characteristics of Longest Commoon SubSequence LCSS"
   ]
  },
  {
   "cell_type": "code",
   "execution_count": 26,
   "metadata": {
    "collapsed": false
   },
   "outputs": [],
   "source": [
    "def twe(a, b, nu=1, lam=0):\n",
    "    assert a.shape[0] == b.shape[0]\n",
    "    d = np.zeros((a.shape[0] + 1, b.shape[0] + 1))\n",
    "    d[0, 0] = 0\n",
    "    d[1, 0] = a[0] ** 2\n",
    "    d[0, 1] = b[0] ** 2\n",
    "    for i in range(1, d.shape[0]):\n",
    "        d[i, 0] = d[i - 1, 0] + (a[i - 2] - a[i - 1]) ** 2\n",
    "    for j in range(1, d.shape[0]):\n",
    "        d[0, j] = d[0, j - 1] + (b[j - 2] - b[j - 1]) ** 2\n",
    "    for i in range(1, d.shape[0]):\n",
    "        for j in range(1, d.shape[0]):\n",
    "            if i > 1 and j > 1:\n",
    "                dst1 = d[i - 1, j - 1] + nu * np.abs(i - j) * 2 + \\\n",
    "                (a[i - 1] - b[j - 1]) ** 2 + (a[i - 2]- b[j - 2]) ** 2\n",
    "            else:\n",
    "                dst1 = d[i - 1, j - 1] + nu * np.abs(i - j) + (a[i - 1] - b[j - 1]) ** 2\n",
    "            if i > 1:\n",
    "                dst2 = d[i - 1, j] + (a[i - 1] - a[i - 2]) ** 2 + lam + nu\n",
    "            else:\n",
    "                dst2 = d[i - 1, j] + a[i - 1] ** 2 + lam\n",
    "            if j > 1:\n",
    "                dst3 = d[i, j - 1] + (b[j - 1] - b[j - 2]) ** 2 + lam + nu\n",
    "            else:\n",
    "                dst3 = d[i, j - 1] + b[j - 1] ** 2 + lam\n",
    "            d[i, j] = np.min([dst1, dst2, dst3])\n",
    "    return d[d.shape[0] - 1, d.shape[0] - 1]"
   ]
  },
  {
   "cell_type": "code",
   "execution_count": 27,
   "metadata": {
    "collapsed": false
   },
   "outputs": [
    {
     "name": "stdout",
     "output_type": "stream",
     "text": [
      "twe(a, b, nu=0.1, lam=0.5) = 8.2\n"
     ]
    }
   ],
   "source": [
    "nu = 0.1; lam = 0.5\n",
    "print('twe(a, b, nu={}, lam={}) = {}'.format(nu, lam, twe(a, b, nu=nu, lam=lam)))"
   ]
  },
  {
   "cell_type": "markdown",
   "metadata": {},
   "source": [
    "## Move-Split_Merge\n",
    "* a typical edit distance based\n",
    "* context is added to insertions and deletions"
   ]
  },
  {
   "cell_type": "code",
   "execution_count": 28,
   "metadata": {
    "collapsed": true
   },
   "outputs": [],
   "source": [
    "def c_penalty(a, ap, b, c=1):\n",
    "    if (ap <= a and a <= b) or (ap >= a and a >= b):\n",
    "        return c\n",
    "    else:\n",
    "        return c + np.min([np.abs(a - ap), np.abs(a - b)])"
   ]
  },
  {
   "cell_type": "code",
   "execution_count": 29,
   "metadata": {
    "collapsed": false
   },
   "outputs": [],
   "source": [
    "def msm(a, b, c=1):\n",
    "    d = np.zeros((a.shape[0], a.shape[0]))\n",
    "    d[0, 0] = np.abs(a[0] - b[0])\n",
    "    for i in range(1, a.shape[0]):\n",
    "        d[i, 0] = d[i - 1, 0] + c_penalty(a[i], a[i - 1], b[0])    \n",
    "    for i in range(1, a.shape[0]):\n",
    "        d[0, i] = d[0, i - 1] + c_penalty(b[i], b[i - 1], a[0])\n",
    "    for i in range(1, a.shape[0]):\n",
    "        for j in range(1, a.shape[0]):\n",
    "            d[i, j] = np.min([d[i - 1, j - 1] + np.abs(a[i] - b[j]),\n",
    "                              d[i - 1, j] + c_penalty(a[i], a[i - 1], b[j]),\n",
    "                              d[i, j - 1] + c_penalty(b[j], b[j - 1], a[i])])\n",
    "    return d[d.shape[0] - 1, d.shape[0] - 1]"
   ]
  },
  {
   "cell_type": "code",
   "execution_count": 30,
   "metadata": {
    "collapsed": false
   },
   "outputs": [
    {
     "data": {
      "text/plain": [
       "6.0"
      ]
     },
     "execution_count": 30,
     "metadata": {},
     "output_type": "execute_result"
    }
   ],
   "source": [
    "msm(a, b)"
   ]
  },
  {
   "cell_type": "code",
   "execution_count": null,
   "metadata": {
    "collapsed": true
   },
   "outputs": [],
   "source": [
    "msm_one_nn = KNeighborsClassifier(n_neighbors=1, metric=msm, n_jobs=-1)\n",
    "msm_one_nn.fit(X_train, y_train)"
   ]
  },
  {
   "cell_type": "markdown",
   "metadata": {},
   "source": [
    "* multiple tests using 1-NN on 72 problems have shown no substantial differences between algorithms"
   ]
  },
  {
   "cell_type": "markdown",
   "metadata": {},
   "source": [
    "##  Differential Distance Based Classifiers\n",
    "* based on the first order difference of the series $$diff=a_i-a_{i-1}$$"
   ]
  },
  {
   "cell_type": "markdown",
   "metadata": {},
   "source": [
    "### Complexity Invariant Based CID\n",
    "* weighs distance measures to compensate for differences in complexity in series compared"
   ]
  },
  {
   "cell_type": "code",
   "execution_count": 104,
   "metadata": {
    "collapsed": false
   },
   "outputs": [],
   "source": [
    "def cid(a, b, dist=fdtw):\n",
    "    d = dist(a, b)\n",
    "    ca = np.sum([(a[i] - a[i - 1]) ** 2 for i in range(1, a.shape[0])])\n",
    "    cb = np.sum([(b[i] - b[i - 1]) ** 2 for i in range(1, b.shape[0])])\n",
    "    return d * np.max([ca, cb]) / np.min([ca, cb])"
   ]
  },
  {
   "cell_type": "code",
   "execution_count": 106,
   "metadata": {
    "collapsed": false
   },
   "outputs": [
    {
     "data": {
      "text/plain": [
       "6.0"
      ]
     },
     "execution_count": 106,
     "metadata": {},
     "output_type": "execute_result"
    }
   ],
   "source": [
    "cid(a, b, dist=fdtw)"
   ]
  },
  {
   "cell_type": "markdown",
   "metadata": {},
   "source": [
    "###  Derivative Distance DD-DTW\n",
    "* weighted combination of raw series and first order differences\n",
    "* parameter $\\alpha$ needs to be found using cross-validation\n"
   ]
  },
  {
   "cell_type": "code",
   "execution_count": 112,
   "metadata": {
    "collapsed": true
   },
   "outputs": [],
   "source": [
    "def dd_dtw(a, b, dist = fdtw, alpha=0.5, toplot=False):\n",
    "    c = np.array([(a[i] - a[i - 1]) for i in range(1, a.shape[0])])\n",
    "    d = np.array([(b[i] - b[i - 1]) for i in range(1, b.shape[0])])\n",
    "    # TODO replace with a real DTW\n",
    "    x = dist(a, b)\n",
    "    y = dist(c, d)\n",
    "    if toplot:\n",
    "        plot(a, label='a')\n",
    "        plot(b, label='b')\n",
    "        plot(c, label='diff(a)')\n",
    "        plot(d, label='diff(b)')\n",
    "    legend(loc='best')\n",
    "    return alpha * x + (1. - alpha) * y"
   ]
  },
  {
   "cell_type": "code",
   "execution_count": 113,
   "metadata": {
    "collapsed": false
   },
   "outputs": [
    {
     "name": "stdout",
     "output_type": "stream",
     "text": [
      "dd_dtw(a, b, alpha=0.0) = 4.0\n",
      "dd_dtw(a, b, alpha=0.1) = 3.9\n",
      "dd_dtw(a, b, alpha=0.2) = 3.8\n",
      "dd_dtw(a, b, alpha=0.3) = 3.7\n",
      "dd_dtw(a, b, alpha=0.4) = 3.6\n",
      "dd_dtw(a, b, alpha=0.5) = 3.5\n",
      "dd_dtw(a, b, alpha=0.6) = 3.4\n",
      "dd_dtw(a, b, alpha=0.7) = 3.3\n",
      "dd_dtw(a, b, alpha=0.8) = 3.2\n",
      "dd_dtw(a, b, alpha=0.9) = 3.1\n",
      "dd_dtw(a, b, alpha=1.0) = 3.0\n"
     ]
    },
    {
     "data": {
      "text/plain": [
       "0.42499999999999999"
      ]
     },
     "execution_count": 113,
     "metadata": {},
     "output_type": "execute_result"
    },
    {
     "data": {
      "image/png": "[encoded data removed]",
      "text/plain": [
       "<matplotlib.figure.Figure at 0x11aa3d710>"
      ]
     },
     "metadata": {},
     "output_type": "display_data"
    }
   ],
   "source": [
    "for al in np.linspace(0, 1, 11):\n",
    "    print(\"dd_dtw(a, b, alpha={}) = {}\".format(al, dd_dtw(a, b, dist=fdtw, alpha=al)))\n",
    "dd_dtw(a, b, dist=sdtw, toplot=True)"
   ]
  },
  {
   "cell_type": "markdown",
   "metadata": {},
   "source": [
    "### Derivative Transform Distance\n",
    "* uses DTW with conjuction of sine, cosine, and Hilbert transforms\n",
    "* a cosine version transforms vector $a$ into series using\n",
    "$$c_i=\\sum_{k=1}^ma_k\\cos\\left(\\frac{\\pi}{2}\\left(k-\\frac{1}{2}\\right)\\left(i-1\\right)\\right)$$\n",
    "\n",
    "---\n",
    "\n",
    "All papers claim superiority to DTW\n",
    "  * results for CID_DTW and DTDC are __significantly__ better than DTW\n",
    "  * DTDC is significantly more accurate"
   ]
  },
  {
   "cell_type": "code",
   "execution_count": 65,
   "metadata": {
    "collapsed": true
   },
   "outputs": [],
   "source": [
    "def cos_transform(a):\n",
    "    def ci(i):\n",
    "        cs = 0\n",
    "        for j in range(a.shape[0]):\n",
    "            cs += a[i] * np.cos((np.pi / 2) * (j - 1. / 2) * (i - 1))\n",
    "        return cs\n",
    "    return np.array([ci(i) for i in range(a.shape[0])])"
   ]
  },
  {
   "cell_type": "code",
   "execution_count": 114,
   "metadata": {
    "collapsed": true
   },
   "outputs": [],
   "source": [
    "def dtdc(a, b, dist=fdtw, alpha=1./3, beta=1./3):\n",
    "    c = np.array([(a[i - 1] - a[i]) for i in range(1, a.shape[0])])\n",
    "    d = np.array([(b[i - 1] - b[i]) for i in range(1, b.shape[0])])\n",
    "    e = cos_transform(a)\n",
    "    f = cos_transform(b)\n",
    "    x = dist(a, b)\n",
    "    y = dist(c, d)\n",
    "    z = dist(e, f)\n",
    "    return alpha * x + beta * y + (1 - alpha - beta) * z"
   ]
  },
  {
   "cell_type": "code",
   "execution_count": 115,
   "metadata": {
    "collapsed": false
   },
   "outputs": [
    {
     "data": {
      "text/plain": [
       "7.747546895706431"
      ]
     },
     "execution_count": 115,
     "metadata": {},
     "output_type": "execute_result"
    }
   ],
   "source": [
    "dtdc(a, b, dist=fdtw)"
   ]
  },
  {
   "cell_type": "markdown",
   "metadata": {},
   "source": [
    "## Dictionary based classifiers\n",
    "* transform series into representative words\n",
    "* similarity based on comparing distribution of words\n",
    "* move w sliding window over series\n",
    "  * each window produces vector of labels\n",
    "  * labels discretized by assigning symbols from an alphabet of set size"
   ]
  },
  {
   "cell_type": "markdown",
   "metadata": {},
   "source": [
    "### Bag Of Patterns BOP\n",
    "* based on Symbolic Aggregate Approximation SAX\n",
    "<img src=\"sax1.png\" width=\"100%\" />\n",
    "  * applies SAX to each window to form a word\n",
    "  * if consecutive windows produce identical words, only the first is returned\n",
    "  * distribution of words over a sieries forms a count histogram"
   ]
  },
  {
   "cell_type": "code",
   "execution_count": 113,
   "metadata": {
    "collapsed": true
   },
   "outputs": [],
   "source": [
    "def BOP(X, y, w, l, alpha):\n",
    "    '''\n",
    "    X: n series of length m each\n",
    "    y:\n",
    "    w: window length\n",
    "    l: word length\n",
    "    alpha: alphabet size\n",
    "    '''\n",
    "    # get n histograms of words over series\n",
    "    H = np.zeros((X.shape[0], alpha))\n",
    "    for i in range(X.shape[1]):\n",
    "        for j in range(X.shape[0]):\n",
    "            q = X[i, j:j + w + 1]\n",
    "            r = SAX(q, l, alpha)\n",
    "            if not trivial_match(r, p):\n",
    "                # determine location of r in count matrix h\n",
    "                pos = index(r, h)\n",
    "                H[i, pos] += 1\n",
    "            p = r\n",
    "    return H"
   ]
  },
  {
   "cell_type": "markdown",
   "metadata": {},
   "source": [
    "### Symbolic Aggregate Approximation Vector Space Model SAXVSM\n",
    "* combines SAX with vector space used in information retrieval\n",
    "  * SAXVSM forms words over __classes__ rather than series\n",
    "  * words are wighted by the ___term frequency - inverse document frequency__ measure\n",
    "  $$tfidf(tf, df)=\\begin{cases}\n",
    "  \\log(1+tf)*log(c/df)&\\mbox{if } df>0\\\\\n",
    "  0\n",
    "  \\end{cases}$$\n",
    "  where \n",
    "    * $tf$ number of times a word appears in a class\n",
    "    * $df$ number of classes a word appears in\n",
    "  "
   ]
  },
  {
   "cell_type": "markdown",
   "metadata": {},
   "source": [
    "### Bag of SFA symbols BOSS\n",
    "* uses a truncated Discrete Fourier Tranform DFT over each window\n",
    "* truncated series is discretized through Multiple Coefficient Binning instead of fixed intervals\n",
    "* segmented and discretized series, with breakpoints found, are then processed much like BOP"
   ]
  },
  {
   "cell_type": "code",
   "execution_count": 115,
   "metadata": {
    "collapsed": false
   },
   "outputs": [],
   "source": [
    "def BOSS(X, y, w, l, alpha):\n",
    "    # histograms\n",
    "    H = np.zeros((X.shape[0], alpha))\n",
    "    # brakpoints\n",
    "    for i in range(X.shape[1]):\n",
    "        for j in range(X.shape[0]):\n",
    "            o = X[i, j:j + w + 1]\n",
    "            q = DFT(o, l, alpha, p)\n",
    "            q_first = q[:l/2]\n",
    "            r = SFA_lookup(q_first, B)\n",
    "            if not trivial_match(r, p):\n",
    "                # determine location of r in count matrix h\n",
    "                pos = index(r, h)\n",
    "                H[i, pos] += 1\n",
    "            p = r\n",
    "    return H, B"
   ]
  },
  {
   "cell_type": "markdown",
   "metadata": {},
   "source": [
    "### DTW features\n",
    "* combines DTW distances and SAX histograms"
   ]
  },
  {
   "cell_type": "markdown",
   "metadata": {},
   "source": [
    "###  Comparisons\n",
    "\n",
    "<img src=\"dictionary_ranks.png\" width=\"100%\" />\n",
    "\n",
    "* on 19 data sets using single train/test spli\n",
    "  * BOP significantly worse than BOSS and SAXVSM\n",
    "  * no significant differences between DTWF, BOSS, SAXVSM\n",
    "  * no significant differences between BOSS and DTWF (on larger number o sets)\n",
    "    * published results of BOSS are probably over-optimistic\n",
    "      * may include test set optimization "
   ]
  },
  {
   "cell_type": "markdown",
   "metadata": {},
   "source": [
    "## Shapelets\n",
    "* TS subsequences discriminatory of class membership\n",
    "  * allow phase-independent similarity of series in the same class\n",
    "  * Keogh and Ye used shapelets as criterions in decision trees"
   ]
  },
  {
   "cell_type": "markdown",
   "metadata": {},
   "source": [
    "### Fast Shapelets FS\n",
    "* an extension of a decision tree\n",
    "* discretizes and approximates shapelets\n",
    "  * form a dictionary of SAX words for each possible shapelet\n",
    "  * mask randomly selected letters to reduce dimensionality (random projection)\n",
    "  * build count histograms for each class\n",
    "  * find scores how each shapelet discriminates between classes\n",
    "  * use k-best SAX words"
   ]
  },
  {
   "cell_type": "code",
   "execution_count": 117,
   "metadata": {
    "collapsed": true
   },
   "outputs": [],
   "source": [
    "def build_fs(X, y, l, alpha, w, r, k):\n",
    "    '''\n",
    "    r: number of random projections\n",
    "    k: number of SAX words to convert back\n",
    "    '''\n",
    "    b = empty_shapelet()\n",
    "    for l in range(5, X.shape[1]):\n",
    "        sax_list = create_sax_list(X, y, l, alpha, w)\n",
    "        sax_map = random_projection(sax_list, r)\n",
    "        score_list = score_sax(sax_list, sax_map)\n",
    "        s = find_best_sax(score_list, sax_list, k)\n",
    "        if b < s:\n",
    "            b = s\n",
    "    ((X_left, y_left), (X_right, y_right)) = split_data(X, y)\n",
    "    if not is_leaf(X_left, y_left):\n",
    "        build_fs(X_left, y_left)\n",
    "    if not is_leaf(X_right, y_right):\n",
    "        build_fs(X_right, y_right)\n"
   ]
  },
  {
   "cell_type": "markdown",
   "metadata": {},
   "source": [
    "### Shapelet Transform ST\n",
    "* find best k shapelets in a single run\n",
    "* use shapelets to transform data\n",
    "* transformed data is used to build a classifier\n",
    "  * use a weighted ensemble of classifiers\n",
    "    * k-NN, Naive Bayes, C4.5, SVM, Random Forest, Rotation Forest, Bayesian NN\n",
    "    * each classifier has its weight"
   ]
  },
  {
   "cell_type": "code",
   "execution_count": 118,
   "metadata": {
    "collapsed": true
   },
   "outputs": [],
   "source": [
    "def build_st(X, y, min_l, max_l, k, c):\n",
    "    '''\n",
    "    min_l, max_l: minimum/maximum shapelet length\n",
    "    k: number of shapelets to find\n",
    "    c: number of classes\n",
    "    '''\n",
    "    s = set() # set of shapelets\n",
    "    p = k / c\n",
    "    for k in range(X.shape[0]):\n",
    "        (x_this, y_this) = (X[k, :], y[k])\n",
    "        r = set()\n",
    "        for l in range(min_l, max_l + 1):\n",
    "            w = candidates(x_this, y_this, l)\n",
    "            for a in w:\n",
    "                d = distances(a, (X, y))\n",
    "                q = assess(a, d) # find quality of candidate shapelet\n",
    "                r += (a, q)\n",
    "        r.sort_by_quality()\n",
    "        r.remove_self_similar()\n",
    "        s.merge(p, r)\n",
    "    return s"
   ]
  },
  {
   "cell_type": "markdown",
   "metadata": {},
   "source": [
    "### Learned Shapelets LS\n",
    "* heuristic gradient descent search to discover most informative shapelets\n",
    "  * shapelets are __not restricted__ to being subseries of training data\n",
    "  * init by k-means clustering of candidates\n",
    "  * logistic loss function (with regularization) based on logistic regression for each class\n",
    "* LS learns regression weights together with shapelets"
   ]
  },
  {
   "cell_type": "code",
   "execution_count": null,
   "metadata": {
    "collapsed": true
   },
   "outputs": [],
   "source": [
    "def ls(X, y, k, min_l, scale, reg, eta, n_iter, alpha):\n",
    "    '''\n",
    "    k: number of shapelets\n",
    "    min_l: minimum shapelet length\n",
    "    scale: scale of shapelet length\n",
    "    reg: regularization parameter\n",
    "    eta: learning parameter\n",
    "    n_iter: number of iterations\n",
    "    alpha: softmax parameter\n",
    "    '''\n",
    "    s = init_shapelets_k_means(X, y, k, scale, min_l)\n",
    "    w = init_weights(X, y, k, scale)\n",
    "    m = init_model(X, y)\n",
    "    loss = init_loss()\n",
    "    for k in range(n_iter):\n",
    "        m.update(X, y, alpha, min_l, scale)\n",
    "        loss.update(X, y, m, w)\n",
    "        w, s = update_w_s(X, y, w, s, eta, scale, min_l, loss, reg, alpha)\n",
    "        # check if the model has diverged: for some problems LS \n",
    "        # may not terminate - a maximum number of restarts is needed\n",
    "        if m.diverged():\n",
    "            k = 0\n",
    "            eta = eta / 3."
   ]
  },
  {
   "cell_type": "markdown",
   "metadata": {},
   "source": [
    "###  Known results\n",
    "* evaluated on 33 common subsets from UCR\n",
    "<img src=\"shapelets_ranks.png\" width=\"100%\" />\n",
    "* FS significantly worse\n",
    "* no significant difference between LS and ST\n",
    "  * better adaptation in LS possible"
   ]
  },
  {
   "cell_type": "markdown",
   "metadata": {},
   "source": [
    "## Interval Based Classifiers\n",
    "* uses features derived from intervals of each series\n",
    "  * $m(m-1)/2$ contiguous intervals in each $m$-length TS\n",
    "  * huge dimension increase\n",
    "  * how to treat each interval\n",
    "* first propositions\n",
    "  1. use only intervals of the lengths of power of two\n",
    "  2. binary features based on thresholds "
   ]
  },
  {
   "cell_type": "markdown",
   "metadata": {},
   "source": [
    "### Time Series Forest TSF\n",
    "* features calculated as summary statiistics (mean, deviation, slope, etc.)\n",
    "* each member tree uses only $\\sqrt{m}$ intervals\n",
    "  * the split is random"
   ]
  },
  {
   "cell_type": "code",
   "execution_count": 119,
   "metadata": {
    "collapsed": true
   },
   "outputs": [],
   "source": [
    "def tsf(X, y, r, min_l):\n",
    "    '''\n",
    "    r: number of trees\n",
    "    min_l: minimum subseries length\n",
    "    '''\n",
    "    forest = [tree(k) for k in range(r)]\n",
    "    m = X.shape[1]\n",
    "    for i in range(r):\n",
    "        # select cases with 3 (mean, deviation, slope) x sqrt(m) random features \n",
    "        s_features = np.floor(np.sqrt(m))\n",
    "        (X_s, y_s) = split(X, y, s_features)\n",
    "        for j in range(s_features):\n",
    "            # select intervals\n",
    "            a = np.random.randint(1, m - min_l)\n",
    "            b = np.random.randint(s + min_l, m)\n",
    "            for k in range(X.shape[0]):\n",
    "                X_s[k, 3 * (j - 1) + 0] = np.mean(X[k, :], a, b)\n",
    "                X_s[k, 3 * (j - 1) + 1] = np.sdev(X[k, :], a, b)\n",
    "                X_s[k, 3 * (j - 1) + 2] = slope(X[k, :], a, b)\n",
    "        forest[i] = build_tree_classifier(X_s, y_s)"
   ]
  },
  {
   "cell_type": "markdown",
   "metadata": {},
   "source": [
    "### Time Series Bag of Features TSBF\n",
    "* extension of TSF in stages\n",
    "  1. generate subseries classification problem\n",
    "    * select $w$ subseries start- and end-points\n",
    "    * for each subseries take _equal_ width intervals and calculate features (mean, deviation, slope)\n",
    "    * concatenate features computed, add original class label to form a new training example\n",
    "  2. produce class probability estimates\n",
    "    * train a random forest on new subseries dataset\n",
    "      * add trees incrementally until an out-of-bag error stops decreasing\n",
    "    * find random forest estimates of class probabilities for each subseries\n",
    "  3. recombine probabilities and form a bag of patterns\n",
    "    * discretize class probability estimates into $b$ equal width bins\n",
    "    * bag together discretized probabilities\n",
    "  4. build final random forest classifier"
   ]
  },
  {
   "cell_type": "markdown",
   "metadata": {},
   "source": [
    "### Learned Pattern Similarity LPS\n",
    "* subseries become attributes\n",
    "* an internal predictive model built as in TSBF\n",
    "  * regression model in LPS rather than classification as in TSBF"
   ]
  },
  {
   "cell_type": "markdown",
   "metadata": {},
   "source": [
    "### Known results\n",
    "* tested on 44 common data sets\n",
    "<img src=\"intervals_ranks.png\" width=\"120%\" />\n",
    "* no significant differences between the methods\n",
    "  * pairwise comparisons show no differences either\n"
   ]
  },
  {
   "cell_type": "markdown",
   "metadata": {},
   "source": [
    "## Ensembles\n",
    "* some of approaches given are ensembles by itself"
   ]
  },
  {
   "cell_type": "markdown",
   "metadata": {},
   "source": [
    "### Elastic Ensemble EE\n",
    "* combination of nearest neighbour classifiers with elastic distance measures\n",
    "  * __ED__ 1-NN with Euclidean distance\n",
    "  * __DTW__ and __DTWCV__ Dynamic Time Warping and DTW with window size through CV\n",
    "  * __DDTW__ and __DDTWCV__ Derivative Time Warping and DTW with window size through CV\n",
    "  * __WDTW__ and __WDDTW__ weighted DTW and Derivative Weighted DTW\n",
    "  * __LCSS__ Longest Common Subsequence\n",
    "  * __ERP__ Edit Distance with Real Penalty\n",
    "  * __TWE__ Time Warp Edit\n",
    "  * __MSM__ Move Split Merge distance\n",
    "* __none__ of the individual members of EE outperforms DTW_CV (Dynamic Time Warping wit Cross Validation with window size set with CV)"
   ]
  },
  {
   "cell_type": "markdown",
   "metadata": {},
   "source": [
    "### Collective Of Transfometion Ensembles COTE\n",
    " * classifiers in time, autocorrealtion, power spectrum, shapelet domain\n",
    " * components of EE\n",
    " * __35__ classifiers pooled with votes weighted by train set cross validation accuracy"
   ]
  },
  {
   "cell_type": "markdown",
   "metadata": {},
   "source": [
    "<img src=\"summary_ensembles.png\" width=\"100%\" />\n",
    "* __NN__ nearest neighbour classification\n",
    "* __time__ time domain distance function\n",
    "* __deri__ derivative based distance function\n",
    "* __shpt__ shapelet based\n",
    "* __int__ interval\n",
    "* __dict__ dictionary\n",
    "* __auto__ auto-correlation based\n",
    "* __ens__ ensemble"
   ]
  },
  {
   "cell_type": "markdown",
   "metadata": {},
   "source": [
    "## Comparisons\n",
    "* 85 datasets from UEA [http://timeseriesclassification.com]\n",
    "  * length of series from 24 to 2709\n",
    "  * train set sizes from 16 to 8926\n",
    "  * number of classes from 2 to 60\n",
    "  * data from: sensor readings, motion capture, spectrographs, ECG measurements, electric devices, etc.\n",
    "  \n",
    "  \n",
    "* 100 resample folds on each problem for each classifier\n",
    "* each classifier evaluated 8500 times\n",
    "  * model selection repeated on every training set fold\n",
    "  * 850 000 models were built for each classifier\n",
    "  \n",
    "* methodology proposed by Demsar used when testing for significant differences between classifiers over various datasets"
   ]
  },
  {
   "cell_type": "markdown",
   "metadata": {},
   "source": [
    "### Benchmark classifiers tested\n",
    "* these classifiers take series as vectors\n",
    "  * do not include time dependecy/auto-correlation/etc.\n",
    "<img src=\"benchmark_classifiers_ranks.png\" width=\"100%\" />\n",
    "  * used: Logistic regression, C4.5, Naive Bayes, Bayesian Network, SVM with Linear kernel, 1-NN with Euclidean Distance, Multi-Layer Perceptron, SVM with Quadratic kernel, 1-NN with DTW, Random Forest (500 trees), Rotation Forest (50 trees)\n",
    "  * RotF and DTW used as benchmarks"
   ]
  },
  {
   "cell_type": "markdown",
   "metadata": {},
   "source": [
    "### All time-series classifiers\n",
    "<img src=\"all_tsc_ranks.png\" width=\"100%\" />\n",
    "* COTE __is significantly__ better than others\n",
    "  * only nine best shown\n",
    "  * both EE and ST are elements of COTE\n",
    "  * this shows the benefits of ensembling\n",
    "* high rank of BOSS (Bag of SFA Symbols dictionary based approach)"
   ]
  },
  {
   "cell_type": "markdown",
   "metadata": {},
   "source": [
    "### Comparison by classifier type\n",
    "#### time domain\n",
    "* MSM (Move-Split-Merge) has the highest rank\n",
    "#### difference based\n",
    "* CID_DTW (complexity Invariant Distance using DTW) and DTD_C (Derivative Transform Distance with cosine transform) are best\n",
    "* better than benchmark DTW, equal to benchmark RotF\n",
    "#### dictionary based\n",
    "* SAXVSM and BOP ranked very low\n",
    "* at the same time BOSS is one of the best!\n",
    "  * BOSS uses a Fourier transform\n",
    "    * BOP is based on Piecewise Aggregate Approximation PAA\n",
    "  * BOSS uses data driven dicretization\n",
    "    * BOP uses arbitrary break points\n",
    "  * which of these differences is the most important?\n",
    "#### shapelet based\n",
    "* Fast Shapelets FS is the worse of all classifiers\n",
    "* Shapelet Transform ST ranks very high\n",
    "* ST is significantly beter than benchmarks RotF (Rotation Forest) and DTW\n",
    "#### interval based\n",
    "* all interval based TSF, TSBF, and LPS are significantly better than benchmarks\n",
    "* there must be a value in intervals\n",
    "#### ensemble\n",
    "* top seven classifiers __are ensembles__\n",
    "  * diversity, diveristy, diversity!\n",
    "<img src=\"summary_table.png\" width=\"100%\" />\n",
    "\n",
    "\n",
    "* The accuracy __may depend__ on the type of problem\n",
    "  * which algorithm types work best on which type of data?\n",
    "\n",
    "* the computational complexity is very different"
   ]
  },
  {
   "cell_type": "markdown",
   "metadata": {},
   "source": [
    "# How to choose a model?\n",
    "* start with Dynamic Warping, Rotation Forest, Random Forest\n",
    "  * as benchmarks\n",
    "  * for sanity\n",
    "* check the type of discriminatory features\n",
    "  * if embedded in subseries, then choose shapelet ST or interval based TSF\n",
    "  * if in frequency domain, then choose BOSS"
   ]
  }
 ],
 "metadata": {
  "anaconda-cloud": {},
  "kernelspec": {
   "display_name": "Python [Root]",
   "language": "python",
   "name": "Python [Root]"
  },
  "language_info": {
   "codemirror_mode": {
    "name": "ipython",
    "version": 2
   },
   "file_extension": ".py",
   "mimetype": "text/x-python",
   "name": "python",
   "nbconvert_exporter": "python",
   "pygments_lexer": "ipython2",
   "version": "2.7.12"
  }
 },
 "nbformat": 4,
 "nbformat_minor": 1
}
